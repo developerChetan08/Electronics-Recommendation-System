{
 "cells": [
  {
   "cell_type": "code",
   "execution_count": 1,
   "id": "6538a2b7",
   "metadata": {},
   "outputs": [],
   "source": [
    "##https://www.kaggle.com/datasets/datafiniti/electronic-products-prices\n",
    "##https://www.youtube.com/watch?v=UM60uo0NUI0&list=PLdF3rLdF4ICTgEwDYcRAECQPnS8eynavM&index=3"
   ]
  },
  {
   "cell_type": "code",
   "execution_count": 2,
   "id": "c72fcd50",
   "metadata": {},
   "outputs": [],
   "source": [
    "import numpy as np\n",
    "import pandas as pd\n",
    "pd.set_option('display.max_columns', None)"
   ]
  },
  {
   "cell_type": "code",
   "execution_count": 3,
   "id": "1f4bf2d4",
   "metadata": {},
   "outputs": [
    {
     "data": {
      "text/html": [
       "<div>\n",
       "<style scoped>\n",
       "    .dataframe tbody tr th:only-of-type {\n",
       "        vertical-align: middle;\n",
       "    }\n",
       "\n",
       "    .dataframe tbody tr th {\n",
       "        vertical-align: top;\n",
       "    }\n",
       "\n",
       "    .dataframe thead th {\n",
       "        text-align: right;\n",
       "    }\n",
       "</style>\n",
       "<table border=\"1\" class=\"dataframe\">\n",
       "  <thead>\n",
       "    <tr style=\"text-align: right;\">\n",
       "      <th></th>\n",
       "      <th>id</th>\n",
       "      <th>prices.amountMax</th>\n",
       "      <th>prices.amountMin</th>\n",
       "      <th>prices.availability</th>\n",
       "      <th>prices.condition</th>\n",
       "      <th>prices.currency</th>\n",
       "      <th>prices.dateSeen</th>\n",
       "      <th>prices.isSale</th>\n",
       "      <th>prices.merchant</th>\n",
       "      <th>prices.shipping</th>\n",
       "      <th>prices.sourceURLs</th>\n",
       "      <th>asins</th>\n",
       "      <th>brand</th>\n",
       "      <th>categories</th>\n",
       "      <th>dateAdded</th>\n",
       "      <th>dateUpdated</th>\n",
       "      <th>ean</th>\n",
       "      <th>imageURLs</th>\n",
       "      <th>keys</th>\n",
       "      <th>manufacturer</th>\n",
       "      <th>manufacturerNumber</th>\n",
       "      <th>name</th>\n",
       "      <th>primaryCategories</th>\n",
       "      <th>sourceURLs</th>\n",
       "      <th>upc</th>\n",
       "      <th>weight</th>\n",
       "      <th>Unnamed: 26</th>\n",
       "      <th>Unnamed: 27</th>\n",
       "      <th>Unnamed: 28</th>\n",
       "      <th>Unnamed: 29</th>\n",
       "      <th>Unnamed: 30</th>\n",
       "    </tr>\n",
       "  </thead>\n",
       "  <tbody>\n",
       "    <tr>\n",
       "      <th>0</th>\n",
       "      <td>AVphzgbJLJeJML43fA0o</td>\n",
       "      <td>104.99</td>\n",
       "      <td>104.99</td>\n",
       "      <td>Yes</td>\n",
       "      <td>New</td>\n",
       "      <td>USD</td>\n",
       "      <td>2017-03-30T06:00:00Z,2017-03-10T22:00:00Z,2017...</td>\n",
       "      <td>False</td>\n",
       "      <td>Bestbuy.com</td>\n",
       "      <td>NaN</td>\n",
       "      <td>http://www.bestbuy.com/site/sanus-tv-wall-moun...</td>\n",
       "      <td>B00C78VIUE</td>\n",
       "      <td>Sanus</td>\n",
       "      <td>Audio &amp; Video Accessories,TV Mounts,TV Accesso...</td>\n",
       "      <td>2015-04-13T12:00:51Z</td>\n",
       "      <td>2018-05-12T18:59:48Z</td>\n",
       "      <td>NaN</td>\n",
       "      <td>https://images-na.ssl-images-amazon.com/images...</td>\n",
       "      <td>sanusvlf410b110inchsuperslimfullmotionmountfor...</td>\n",
       "      <td>NaN</td>\n",
       "      <td>VLF410B1</td>\n",
       "      <td>Sanus VLF410B1 10-Inch Super Slim Full-Motion ...</td>\n",
       "      <td>Electronics</td>\n",
       "      <td>https://www.amazon.com/Sanus-VLF410B1-10-Inch-...</td>\n",
       "      <td>7.93796E+11</td>\n",
       "      <td>32.8 pounds</td>\n",
       "      <td>NaN</td>\n",
       "      <td>NaN</td>\n",
       "      <td>NaN</td>\n",
       "      <td>NaN</td>\n",
       "      <td>NaN</td>\n",
       "    </tr>\n",
       "  </tbody>\n",
       "</table>\n",
       "</div>"
      ],
      "text/plain": [
       "                     id  prices.amountMax  prices.amountMin  \\\n",
       "0  AVphzgbJLJeJML43fA0o            104.99            104.99   \n",
       "\n",
       "  prices.availability prices.condition prices.currency  \\\n",
       "0                 Yes              New             USD   \n",
       "\n",
       "                                     prices.dateSeen  prices.isSale  \\\n",
       "0  2017-03-30T06:00:00Z,2017-03-10T22:00:00Z,2017...          False   \n",
       "\n",
       "  prices.merchant prices.shipping  \\\n",
       "0     Bestbuy.com             NaN   \n",
       "\n",
       "                                   prices.sourceURLs       asins  brand  \\\n",
       "0  http://www.bestbuy.com/site/sanus-tv-wall-moun...  B00C78VIUE  Sanus   \n",
       "\n",
       "                                          categories             dateAdded  \\\n",
       "0  Audio & Video Accessories,TV Mounts,TV Accesso...  2015-04-13T12:00:51Z   \n",
       "\n",
       "            dateUpdated  ean  \\\n",
       "0  2018-05-12T18:59:48Z  NaN   \n",
       "\n",
       "                                           imageURLs  \\\n",
       "0  https://images-na.ssl-images-amazon.com/images...   \n",
       "\n",
       "                                                keys manufacturer  \\\n",
       "0  sanusvlf410b110inchsuperslimfullmotionmountfor...          NaN   \n",
       "\n",
       "  manufacturerNumber                                               name  \\\n",
       "0           VLF410B1  Sanus VLF410B1 10-Inch Super Slim Full-Motion ...   \n",
       "\n",
       "  primaryCategories                                         sourceURLs  \\\n",
       "0       Electronics  https://www.amazon.com/Sanus-VLF410B1-10-Inch-...   \n",
       "\n",
       "           upc       weight Unnamed: 26 Unnamed: 27  Unnamed: 28 Unnamed: 29  \\\n",
       "0  7.93796E+11  32.8 pounds         NaN         NaN          NaN         NaN   \n",
       "\n",
       "  Unnamed: 30  \n",
       "0         NaN  "
      ]
     },
     "execution_count": 3,
     "metadata": {},
     "output_type": "execute_result"
    }
   ],
   "source": [
    "df = pd.read_csv(\"Electronics.csv\")\n",
    "df.head(1)"
   ]
  },
  {
   "cell_type": "code",
   "execution_count": 4,
   "id": "3a5c686e",
   "metadata": {},
   "outputs": [
    {
     "name": "stdout",
     "output_type": "stream",
     "text": [
      "<class 'pandas.core.frame.DataFrame'>\n",
      "RangeIndex: 14592 entries, 0 to 14591\n",
      "Data columns (total 31 columns):\n",
      " #   Column               Non-Null Count  Dtype  \n",
      "---  ------               --------------  -----  \n",
      " 0   id                   14592 non-null  object \n",
      " 1   prices.amountMax     14592 non-null  float64\n",
      " 2   prices.amountMin     14592 non-null  float64\n",
      " 3   prices.availability  12667 non-null  object \n",
      " 4   prices.condition     13189 non-null  object \n",
      " 5   prices.currency      14592 non-null  object \n",
      " 6   prices.dateSeen      14592 non-null  object \n",
      " 7   prices.isSale        14592 non-null  bool   \n",
      " 8   prices.merchant      13820 non-null  object \n",
      " 9   prices.shipping      8793 non-null   object \n",
      " 10  prices.sourceURLs    14592 non-null  object \n",
      " 11  asins                14592 non-null  object \n",
      " 12  brand                14592 non-null  object \n",
      " 13  categories           14592 non-null  object \n",
      " 14  dateAdded            14592 non-null  object \n",
      " 15  dateUpdated          14592 non-null  object \n",
      " 16  ean                  4208 non-null   object \n",
      " 17  imageURLs            14592 non-null  object \n",
      " 18  keys                 14592 non-null  object \n",
      " 19  manufacturer         7618 non-null   object \n",
      " 20  manufacturerNumber   14592 non-null  object \n",
      " 21  name                 14592 non-null  object \n",
      " 22  primaryCategories    14592 non-null  object \n",
      " 23  sourceURLs           14592 non-null  object \n",
      " 24  upc                  14592 non-null  object \n",
      " 25  weight               14592 non-null  object \n",
      " 26  Unnamed: 26          39 non-null     object \n",
      " 27  Unnamed: 27          18 non-null     object \n",
      " 28  Unnamed: 28          6 non-null      float64\n",
      " 29  Unnamed: 29          12 non-null     object \n",
      " 30  Unnamed: 30          6 non-null      object \n",
      "dtypes: bool(1), float64(3), object(27)\n",
      "memory usage: 3.4+ MB\n"
     ]
    }
   ],
   "source": [
    "df.info()"
   ]
  },
  {
   "cell_type": "code",
   "execution_count": 5,
   "id": "2d3cc364",
   "metadata": {},
   "outputs": [],
   "source": [
    "df = df[['name','brand','categories']]"
   ]
  },
  {
   "cell_type": "code",
   "execution_count": 6,
   "id": "9094e174",
   "metadata": {},
   "outputs": [
    {
     "data": {
      "text/html": [
       "<div>\n",
       "<style scoped>\n",
       "    .dataframe tbody tr th:only-of-type {\n",
       "        vertical-align: middle;\n",
       "    }\n",
       "\n",
       "    .dataframe tbody tr th {\n",
       "        vertical-align: top;\n",
       "    }\n",
       "\n",
       "    .dataframe thead th {\n",
       "        text-align: right;\n",
       "    }\n",
       "</style>\n",
       "<table border=\"1\" class=\"dataframe\">\n",
       "  <thead>\n",
       "    <tr style=\"text-align: right;\">\n",
       "      <th></th>\n",
       "      <th>name</th>\n",
       "      <th>brand</th>\n",
       "      <th>categories</th>\n",
       "    </tr>\n",
       "  </thead>\n",
       "  <tbody>\n",
       "    <tr>\n",
       "      <th>0</th>\n",
       "      <td>Sanus VLF410B1 10-Inch Super Slim Full-Motion ...</td>\n",
       "      <td>Sanus</td>\n",
       "      <td>Audio &amp; Video Accessories,TV Mounts,TV Accesso...</td>\n",
       "    </tr>\n",
       "  </tbody>\n",
       "</table>\n",
       "</div>"
      ],
      "text/plain": [
       "                                                name  brand  \\\n",
       "0  Sanus VLF410B1 10-Inch Super Slim Full-Motion ...  Sanus   \n",
       "\n",
       "                                          categories  \n",
       "0  Audio & Video Accessories,TV Mounts,TV Accesso...  "
      ]
     },
     "execution_count": 6,
     "metadata": {},
     "output_type": "execute_result"
    }
   ],
   "source": [
    "df.head(1)"
   ]
  },
  {
   "cell_type": "markdown",
   "id": "70a97c8c",
   "metadata": {},
   "source": [
    "# Cleaning Dataset:-"
   ]
  },
  {
   "cell_type": "markdown",
   "id": "1f3ed426",
   "metadata": {},
   "source": [
    "1) name col:-"
   ]
  },
  {
   "cell_type": "code",
   "execution_count": 7,
   "id": "eb6d3a5a",
   "metadata": {},
   "outputs": [
    {
     "data": {
      "text/plain": [
       "\"Sanus VLF410B1 10-Inch Super Slim Full-Motion Mount for 37 - 84 Inches TV's\""
      ]
     },
     "execution_count": 7,
     "metadata": {},
     "output_type": "execute_result"
    }
   ],
   "source": [
    "df['name'][0]"
   ]
  },
  {
   "cell_type": "markdown",
   "id": "e0fd3952",
   "metadata": {},
   "source": [
    "# Removing Non-Alpha Characters:-"
   ]
  },
  {
   "cell_type": "markdown",
   "id": "aa096a80",
   "metadata": {},
   "source": [
    "punctuation,marks,symbols,whitespace,characters,and special characters such as @,#,$,%,^,&,etc."
   ]
  },
  {
   "cell_type": "code",
   "execution_count": 8,
   "id": "7473a11f",
   "metadata": {},
   "outputs": [],
   "source": [
    "df['name'] = df['name'].str.lower().replace(['^a-zA-Z0-9'],\" \",regex=True)"
   ]
  },
  {
   "cell_type": "code",
   "execution_count": 9,
   "id": "cb8987b2",
   "metadata": {},
   "outputs": [],
   "source": [
    "df['categories'] = df['categories'].str.lower().replace(['^a-zA-Z0-9'],\" \",regex=True)"
   ]
  },
  {
   "cell_type": "raw",
   "id": "45d283c3",
   "metadata": {},
   "source": [
    "A Function that will do all the steps:-\n",
    "1)tokenization(hello world) hello,world\n",
    "2)lower(World = world)\n",
    "3)removing stopwords (the,is,for,to)\n",
    "4)stemming (loving,loved--> love)"
   ]
  },
  {
   "cell_type": "code",
   "execution_count": 10,
   "id": "ef2a052e",
   "metadata": {},
   "outputs": [],
   "source": [
    "import nltk\n",
    "from nltk.corpus import stopwords\n",
    "from nltk.stem.snowball import SnowballStemmer\n",
    "stemer = SnowballStemmer('english')\n",
    "\n",
    "def tokenization(txt):\n",
    "    tokens = nltk.word_tokenize(txt)\n",
    "    stemming = [stemer.stem(w) for w in tokens if w not in stopwords.words('english')]\n",
    "    return \" \".join(stemming)"
   ]
  },
  {
   "cell_type": "code",
   "execution_count": 11,
   "id": "9647bfa6",
   "metadata": {},
   "outputs": [],
   "source": [
    "df['name'] = df['name'].apply(lambda x: tokenization(x))\n",
    "df['categories'] = df['categories'].apply(lambda x: tokenization(x))"
   ]
  },
  {
   "cell_type": "code",
   "execution_count": 12,
   "id": "efab8273",
   "metadata": {},
   "outputs": [
    {
     "data": {
      "text/plain": [
       "0        sanus vlf410b1 10-inch super slim full-mot mou...\n",
       "1        boyton - 2500w 2.1-ch . home theater system - ...\n",
       "2        boyton - 2500w 2.1-ch . home theater system - ...\n",
       "3        boyton - 2500w 2.1-ch . home theater system - ...\n",
       "4        boyton - 2500w 2.1-ch . home theater system - ...\n",
       "                               ...                        \n",
       "14587    naxa - 2.1-channel soundbar 50-watt digit ampl...\n",
       "14588    naxa - 2.1-channel soundbar 50-watt digit ampl...\n",
       "14589    naxa - 2.1-channel soundbar 50-watt digit ampl...\n",
       "14590    naxa - 2.1-channel soundbar 50-watt digit ampl...\n",
       "14591    naxa - 2.1-channel soundbar 50-watt digit ampl...\n",
       "Name: name, Length: 14592, dtype: object"
      ]
     },
     "execution_count": 12,
     "metadata": {},
     "output_type": "execute_result"
    }
   ],
   "source": [
    "df['name']"
   ]
  },
  {
   "cell_type": "code",
   "execution_count": 13,
   "id": "7ee5ca06",
   "metadata": {},
   "outputs": [],
   "source": [
    "df['name_cate'] = df['name'] + \" \" + df['categories']"
   ]
  },
  {
   "cell_type": "code",
   "execution_count": 14,
   "id": "4ad882b9",
   "metadata": {},
   "outputs": [
    {
     "data": {
      "text/plain": [
       "0        sanus vlf410b1 10-inch super slim full-mot mou...\n",
       "1        boyton - 2500w 2.1-ch . home theater system - ...\n",
       "2        boyton - 2500w 2.1-ch . home theater system - ...\n",
       "3        boyton - 2500w 2.1-ch . home theater system - ...\n",
       "4        boyton - 2500w 2.1-ch . home theater system - ...\n",
       "                               ...                        \n",
       "14587    naxa - 2.1-channel soundbar 50-watt digit ampl...\n",
       "14588    naxa - 2.1-channel soundbar 50-watt digit ampl...\n",
       "14589    naxa - 2.1-channel soundbar 50-watt digit ampl...\n",
       "14590    naxa - 2.1-channel soundbar 50-watt digit ampl...\n",
       "14591    naxa - 2.1-channel soundbar 50-watt digit ampl...\n",
       "Name: name_cate, Length: 14592, dtype: object"
      ]
     },
     "execution_count": 14,
     "metadata": {},
     "output_type": "execute_result"
    }
   ],
   "source": [
    "df['name_cate']"
   ]
  },
  {
   "cell_type": "markdown",
   "id": "db911c40",
   "metadata": {},
   "source": [
    "# Cosine Similarity "
   ]
  },
  {
   "cell_type": "code",
   "execution_count": 15,
   "id": "b065e795",
   "metadata": {},
   "outputs": [],
   "source": [
    "from sklearn.feature_extraction.text import TfidfVectorizer\n",
    "from sklearn.metrics.pairwise import cosine_similarity"
   ]
  },
  {
   "cell_type": "code",
   "execution_count": 16,
   "id": "59018671",
   "metadata": {},
   "outputs": [],
   "source": [
    "def cosine_sim(txt1,txt2):\n",
    "    obj_ifid = TfidfVectorizer(tokenizer=tokenization)\n",
    "    matrix = obj_ifid.fit_transform([txt1,txt2])\n",
    "    similarity = cosine_similarity(matrix)[0][1]\n",
    "    return similarity    "
   ]
  },
  {
   "cell_type": "markdown",
   "id": "08c69691",
   "metadata": {},
   "source": [
    "# Recommend Products"
   ]
  },
  {
   "cell_type": "code",
   "execution_count": 17,
   "id": "7d1dad3f",
   "metadata": {},
   "outputs": [],
   "source": [
    "def recommdation(query):\n",
    "    tokenization_query = tokenization(query)\n",
    "    df['similarity'] = df['name_cate'].apply(lambda x:cosine_sim(tokenization_query,x))\n",
    "    final_df = df.sort_values(by=['similarity'],ascending=False).head(10)\n",
    "    return final_df"
   ]
  },
  {
   "cell_type": "code",
   "execution_count": 18,
   "id": "7cbfab90",
   "metadata": {},
   "outputs": [
    {
     "data": {
      "text/html": [
       "<div>\n",
       "<style scoped>\n",
       "    .dataframe tbody tr th:only-of-type {\n",
       "        vertical-align: middle;\n",
       "    }\n",
       "\n",
       "    .dataframe tbody tr th {\n",
       "        vertical-align: top;\n",
       "    }\n",
       "\n",
       "    .dataframe thead th {\n",
       "        text-align: right;\n",
       "    }\n",
       "</style>\n",
       "<table border=\"1\" class=\"dataframe\">\n",
       "  <thead>\n",
       "    <tr style=\"text-align: right;\">\n",
       "      <th></th>\n",
       "      <th>name</th>\n",
       "      <th>brand</th>\n",
       "      <th>categories</th>\n",
       "      <th>name_cate</th>\n",
       "      <th>similarity</th>\n",
       "    </tr>\n",
       "  </thead>\n",
       "  <tbody>\n",
       "    <tr>\n",
       "      <th>0</th>\n",
       "      <td>sanus vlf410b1 10-inch super slim full-mot mou...</td>\n",
       "      <td>Sanus</td>\n",
       "      <td>audio &amp; video accessori , tv mount , tv access...</td>\n",
       "      <td>sanus vlf410b1 10-inch super slim full-mot mou...</td>\n",
       "      <td>0.907146</td>\n",
       "    </tr>\n",
       "    <tr>\n",
       "      <th>10583</th>\n",
       "      <td>sanus - visionmount full-mot tv wall mount 42 ...</td>\n",
       "      <td>Sanus</td>\n",
       "      <td>audio &amp; video accessori , tv mount , tv access...</td>\n",
       "      <td>sanus - visionmount full-mot tv wall mount 42 ...</td>\n",
       "      <td>0.861258</td>\n",
       "    </tr>\n",
       "    <tr>\n",
       "      <th>10584</th>\n",
       "      <td>sanus - visionmount full-mot tv wall mount 42 ...</td>\n",
       "      <td>Sanus</td>\n",
       "      <td>audio &amp; video accessori , tv mount , tv access...</td>\n",
       "      <td>sanus - visionmount full-mot tv wall mount 42 ...</td>\n",
       "      <td>0.861258</td>\n",
       "    </tr>\n",
       "    <tr>\n",
       "      <th>10585</th>\n",
       "      <td>sanus - visionmount full-mot tv wall mount 42 ...</td>\n",
       "      <td>Sanus</td>\n",
       "      <td>audio &amp; video accessori , tv mount , tv access...</td>\n",
       "      <td>sanus - visionmount full-mot tv wall mount 42 ...</td>\n",
       "      <td>0.861258</td>\n",
       "    </tr>\n",
       "    <tr>\n",
       "      <th>10586</th>\n",
       "      <td>sanus - visionmount full-mot tv wall mount 42 ...</td>\n",
       "      <td>Sanus</td>\n",
       "      <td>audio &amp; video accessori , tv mount , tv access...</td>\n",
       "      <td>sanus - visionmount full-mot tv wall mount 42 ...</td>\n",
       "      <td>0.861258</td>\n",
       "    </tr>\n",
       "    <tr>\n",
       "      <th>10587</th>\n",
       "      <td>sanus - visionmount full-mot tv wall mount 42 ...</td>\n",
       "      <td>Sanus</td>\n",
       "      <td>audio &amp; video accessori , tv mount , tv access...</td>\n",
       "      <td>sanus - visionmount full-mot tv wall mount 42 ...</td>\n",
       "      <td>0.861258</td>\n",
       "    </tr>\n",
       "    <tr>\n",
       "      <th>10588</th>\n",
       "      <td>sanus - visionmount full-mot tv wall mount 42 ...</td>\n",
       "      <td>Sanus</td>\n",
       "      <td>audio &amp; video accessori , tv mount , tv access...</td>\n",
       "      <td>sanus - visionmount full-mot tv wall mount 42 ...</td>\n",
       "      <td>0.861258</td>\n",
       "    </tr>\n",
       "    <tr>\n",
       "      <th>10589</th>\n",
       "      <td>sanus - visionmount full-mot tv wall mount 42 ...</td>\n",
       "      <td>Sanus</td>\n",
       "      <td>audio &amp; video accessori , tv mount , tv access...</td>\n",
       "      <td>sanus - visionmount full-mot tv wall mount 42 ...</td>\n",
       "      <td>0.861258</td>\n",
       "    </tr>\n",
       "    <tr>\n",
       "      <th>12952</th>\n",
       "      <td>os120fm full-mot wall mount 42 70 display ( bl...</td>\n",
       "      <td>OmniMount</td>\n",
       "      <td>audio &amp; video accessori , tv mount , audio vis...</td>\n",
       "      <td>os120fm full-mot wall mount 42 70 display ( bl...</td>\n",
       "      <td>0.856052</td>\n",
       "    </tr>\n",
       "    <tr>\n",
       "      <th>12957</th>\n",
       "      <td>os120fm full-mot wall mount 42 70 display ( bl...</td>\n",
       "      <td>OmniMount</td>\n",
       "      <td>audio &amp; video accessori , tv mount , audio vis...</td>\n",
       "      <td>os120fm full-mot wall mount 42 70 display ( bl...</td>\n",
       "      <td>0.856052</td>\n",
       "    </tr>\n",
       "  </tbody>\n",
       "</table>\n",
       "</div>"
      ],
      "text/plain": [
       "                                                    name      brand  \\\n",
       "0      sanus vlf410b1 10-inch super slim full-mot mou...      Sanus   \n",
       "10583  sanus - visionmount full-mot tv wall mount 42 ...      Sanus   \n",
       "10584  sanus - visionmount full-mot tv wall mount 42 ...      Sanus   \n",
       "10585  sanus - visionmount full-mot tv wall mount 42 ...      Sanus   \n",
       "10586  sanus - visionmount full-mot tv wall mount 42 ...      Sanus   \n",
       "10587  sanus - visionmount full-mot tv wall mount 42 ...      Sanus   \n",
       "10588  sanus - visionmount full-mot tv wall mount 42 ...      Sanus   \n",
       "10589  sanus - visionmount full-mot tv wall mount 42 ...      Sanus   \n",
       "12952  os120fm full-mot wall mount 42 70 display ( bl...  OmniMount   \n",
       "12957  os120fm full-mot wall mount 42 70 display ( bl...  OmniMount   \n",
       "\n",
       "                                              categories  \\\n",
       "0      audio & video accessori , tv mount , tv access...   \n",
       "10583  audio & video accessori , tv mount , tv access...   \n",
       "10584  audio & video accessori , tv mount , tv access...   \n",
       "10585  audio & video accessori , tv mount , tv access...   \n",
       "10586  audio & video accessori , tv mount , tv access...   \n",
       "10587  audio & video accessori , tv mount , tv access...   \n",
       "10588  audio & video accessori , tv mount , tv access...   \n",
       "10589  audio & video accessori , tv mount , tv access...   \n",
       "12952  audio & video accessori , tv mount , audio vis...   \n",
       "12957  audio & video accessori , tv mount , audio vis...   \n",
       "\n",
       "                                               name_cate  similarity  \n",
       "0      sanus vlf410b1 10-inch super slim full-mot mou...    0.907146  \n",
       "10583  sanus - visionmount full-mot tv wall mount 42 ...    0.861258  \n",
       "10584  sanus - visionmount full-mot tv wall mount 42 ...    0.861258  \n",
       "10585  sanus - visionmount full-mot tv wall mount 42 ...    0.861258  \n",
       "10586  sanus - visionmount full-mot tv wall mount 42 ...    0.861258  \n",
       "10587  sanus - visionmount full-mot tv wall mount 42 ...    0.861258  \n",
       "10588  sanus - visionmount full-mot tv wall mount 42 ...    0.861258  \n",
       "10589  sanus - visionmount full-mot tv wall mount 42 ...    0.861258  \n",
       "12952  os120fm full-mot wall mount 42 70 display ( bl...    0.856052  \n",
       "12957  os120fm full-mot wall mount 42 70 display ( bl...    0.856052  "
      ]
     },
     "execution_count": 18,
     "metadata": {},
     "output_type": "execute_result"
    }
   ],
   "source": [
    "recommdation(\"sanus vlf410b1 10-inch super slim full-mot mount 37 - 84 inch tv\")"
   ]
  },
  {
   "cell_type": "code",
   "execution_count": 19,
   "id": "ec0a93d1",
   "metadata": {},
   "outputs": [
    {
     "data": {
      "text/plain": [
       "\"sanus vlf410b1 10-inch super slim full-mot mount 37 - 84 inch tv 's\""
      ]
     },
     "execution_count": 19,
     "metadata": {},
     "output_type": "execute_result"
    }
   ],
   "source": [
    "df['name'][0]"
   ]
  },
  {
   "cell_type": "code",
   "execution_count": null,
   "id": "769b9fb5",
   "metadata": {},
   "outputs": [],
   "source": []
  }
 ],
 "metadata": {
  "kernelspec": {
   "display_name": "Python 3 (ipykernel)",
   "language": "python",
   "name": "python3"
  },
  "language_info": {
   "codemirror_mode": {
    "name": "ipython",
    "version": 3
   },
   "file_extension": ".py",
   "mimetype": "text/x-python",
   "name": "python",
   "nbconvert_exporter": "python",
   "pygments_lexer": "ipython3",
   "version": "3.9.13"
  }
 },
 "nbformat": 4,
 "nbformat_minor": 5
}
